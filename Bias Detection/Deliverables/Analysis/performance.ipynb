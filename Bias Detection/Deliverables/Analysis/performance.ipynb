{
 "cells": [
  {
   "cell_type": "code",
   "execution_count": 10,
   "id": "d80fe5ab",
   "metadata": {},
   "outputs": [
    {
     "name": "stderr",
     "output_type": "stream",
     "text": [
      "INFO:root:Evaluating DeBERTA...\n",
      "INFO:root:Evaluating DistilBERT...\n"
     ]
    },
    {
     "name": "stderr",
     "output_type": "stream",
     "text": [
      "INFO:root:Evaluating RoBERTa...\n",
      "INFO:root:Evaluation complete. Results saved to analytics.json.\n"
     ]
    }
   ],
   "source": [
    "import torch\n",
    "from sklearn.metrics import accuracy_score, precision_score, recall_score, f1_score, confusion_matrix\n",
    "import json\n",
    "import logging\n",
    "\n",
    "# Setup logging\n",
    "logging.basicConfig(level=logging.INFO)\n",
    "\n",
    "# Constants (replace with your real model paths)\n",
    "MODEL_PATHS = {\n",
    "    \"DeBERTA\": \"/Users/amalkurian/Desktop/Dissertation/Bias Detection/models/Deberta/final_model.pth\",\n",
    "    \"DistilBERT\": \"/Users/amalkurian/Desktop/Dissertation/Bias Detection/models/DistilBERT/final_model_new(2).pth\",\n",
    "    \"RoBERTa\": \"/Users/amalkurian/Desktop/Dissertation/Bias Detection/models/logistic_regression_model.pkl\",\n",
    "}\n",
    "ANALYTICS_FILE = \"analytics.json\"\n",
    "\n",
    "# Dummy dataset (replace with your test_loader)\n",
    "X_test = torch.randn(100, 768)  # 100 samples, embedding size 768\n",
    "y_test = torch.randint(0, 2, (100,))  # random binary labels\n",
    "\n",
    "# -------------------------------\n",
    "# Function to evaluate a model\n",
    "# -------------------------------\n",
    "def evaluate_model(model, X, y_true):\n",
    "    \"\"\"Evaluate model and return performance metrics.\"\"\"\n",
    "    model.eval()\n",
    "    with torch.no_grad():\n",
    "        y_pred = model(X).argmax(dim=1).cpu().numpy()\n",
    "\n",
    "    y_true = y_true.cpu().numpy()\n",
    "    results = {\n",
    "        \"accuracy\": accuracy_score(y_true, y_pred),\n",
    "        \"precision\": precision_score(y_true, y_pred),\n",
    "        \"recall\": recall_score(y_true, y_pred),\n",
    "        \"f1\": f1_score(y_true, y_pred),\n",
    "        \"confusion_matrix\": confusion_matrix(y_true, y_pred).tolist(),\n",
    "    }\n",
    "    return results\n",
    "\n",
    "# -------------------------------\n",
    "# Mock Model Loader (replace with actual)\n",
    "# -------------------------------\n",
    "class DummyModel(torch.nn.Module):\n",
    "    def __init__(self):\n",
    "        super().__init__()\n",
    "        self.fc = torch.nn.Linear(768, 2)  # binary classifier\n",
    "\n",
    "    def forward(self, x):\n",
    "        return self.fc(x)\n",
    "\n",
    "def load_model(path):\n",
    "    # Replace with: torch.load(path) and model.load_state_dict(...)\n",
    "    model = DummyModel()\n",
    "    return model\n",
    "\n",
    "# -------------------------------\n",
    "# Main comparison\n",
    "# -------------------------------\n",
    "all_results = {}\n",
    "for model_name, model_path in MODEL_PATHS.items():\n",
    "    logging.info(f\"Evaluating {model_name}...\")\n",
    "    model = load_model(model_path)\n",
    "    results = evaluate_model(model, X_test, y_test)\n",
    "    all_results[model_name] = results\n",
    "\n",
    "# Save to JSON\n",
    "with open(ANALYTICS_FILE, \"w\") as f:\n",
    "    json.dump(all_results, f, indent=4)\n",
    "\n",
    "logging.info(\"Evaluation complete. Results saved to analytics.json.\")\n"
   ]
  },
  {
   "cell_type": "code",
   "execution_count": null,
   "id": "30d4233e",
   "metadata": {},
   "outputs": [],
   "source": []
  }
 ],
 "metadata": {
  "kernelspec": {
   "display_name": "base",
   "language": "python",
   "name": "python3"
  },
  "language_info": {
   "codemirror_mode": {
    "name": "ipython",
    "version": 3
   },
   "file_extension": ".py",
   "mimetype": "text/x-python",
   "name": "python",
   "nbconvert_exporter": "python",
   "pygments_lexer": "ipython3",
   "version": "3.12.7"
  }
 },
 "nbformat": 4,
 "nbformat_minor": 5
}
