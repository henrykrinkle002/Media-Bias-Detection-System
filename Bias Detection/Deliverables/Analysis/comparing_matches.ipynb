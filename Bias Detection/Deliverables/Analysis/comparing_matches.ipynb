{
 "cells": [
  {
   "cell_type": "code",
   "execution_count": 4,
   "id": "00e06337",
   "metadata": {},
   "outputs": [],
   "source": [
    "from sklearn.feature_extraction.text import TfidfVectorizer\n",
    "import pandas as pd\n",
    "article_df = pd.read_csv('Main_Dataset1.csv')\n",
    "vectorizer = TfidfVectorizer(max_features=5000)\n",
    "X_tfidf = vectorizer.fit_transform(article_df['cleaned_content'])  # or whichever text field\n",
    "from sklearn.metrics.pairwise import cosine_similarity\n",
    "from sklearn.decomposition import TruncatedSVD\n",
    "\n",
    "svd = TruncatedSVD(n_components=100, random_state=42)\n",
    "X_mf = svd.fit_transform(X_tfidf)\n",
    "\n",
    "reference_idx = 0  # choose your reference article\n",
    "reference_vector = X_mf[reference_idx].reshape(1, -1)\n",
    "\n",
    "similarities = cosine_similarity(reference_vector, X_mf).flatten()\n",
    "article_df['article_score_with_MF'] = similarities\n",
    "\n",
    "reference_indices = [0, 5, 10]\n",
    "reference_matrix = X_mf[reference_indices]\n",
    "similarities = cosine_similarity(reference_matrix, X_mf).mean(axis=0)\n",
    "\n",
    "article_df['article_score_with_MF'] = similarities\n",
    "\n"
   ]
  },
  {
   "cell_type": "code",
   "execution_count": 5,
   "id": "f09802d4",
   "metadata": {},
   "outputs": [
    {
     "data": {
      "text/plain": [
       "0       0.907527\n",
       "1       0.730194\n",
       "2       0.675418\n",
       "3       0.562446\n",
       "4       0.406206\n",
       "          ...   \n",
       "3317    0.737678\n",
       "3318    0.527578\n",
       "3319    0.807621\n",
       "3320    0.533159\n",
       "3321    0.797123\n",
       "Name: article_score_with_MF, Length: 3322, dtype: float64"
      ]
     },
     "execution_count": 5,
     "metadata": {},
     "output_type": "execute_result"
    }
   ],
   "source": [
    "article_df['article_score_with_MF']"
   ]
  },
  {
   "cell_type": "code",
   "execution_count": 7,
   "id": "fa2c9c70",
   "metadata": {},
   "outputs": [],
   "source": [
    "article_df.to_csv('Main_Dataset1.csv')"
   ]
  },
  {
   "cell_type": "code",
   "execution_count": null,
   "id": "4f2d4545",
   "metadata": {},
   "outputs": [],
   "source": []
  }
 ],
 "metadata": {
  "kernelspec": {
   "display_name": "myenv",
   "language": "python",
   "name": "python3"
  },
  "language_info": {
   "codemirror_mode": {
    "name": "ipython",
    "version": 3
   },
   "file_extension": ".py",
   "mimetype": "text/x-python",
   "name": "python",
   "nbconvert_exporter": "python",
   "pygments_lexer": "ipython3",
   "version": "3.9.23"
  }
 },
 "nbformat": 4,
 "nbformat_minor": 5
}
