{
 "cells": [
  {
   "cell_type": "code",
   "execution_count": 5,
   "id": "a39df032",
   "metadata": {},
   "outputs": [],
   "source": [
    "from sklearn.utils import resample\n",
    "import pandas as pd\n",
    "train_df = pd.read_csv(\"Main_Dataset3.csv\")"
   ]
  },
  {
   "cell_type": "code",
   "execution_count": 6,
   "id": "3882ada5",
   "metadata": {},
   "outputs": [
    {
     "name": "stdout",
     "output_type": "stream",
     "text": [
      "MATCH_LABELS\n",
      "Invalid    2399\n",
      "Valid      2399\n",
      "Name: count, dtype: int64\n"
     ]
    }
   ],
   "source": [
    "from sklearn.utils import resample\n",
    "\n",
    "# Count samples per class\n",
    "class_counts = train_df['MATCH_LABELS'].value_counts()\n",
    "majority_label = class_counts.idxmax()\n",
    "minority_label = class_counts.idxmin()\n",
    "\n",
    "df_majority = train_df[train_df.MATCH_LABELS == majority_label]\n",
    "df_minority = train_df[train_df.MATCH_LABELS == minority_label]\n",
    "\n",
    "df_minority_upsampled = resample(\n",
    "    df_minority,\n",
    "    replace=True,\n",
    "    n_samples=len(df_majority),  # match majority count\n",
    "    random_state=42\n",
    ")\n",
    "\n",
    "train_balanced = pd.concat([df_majority, df_minority_upsampled])\n",
    "print(train_balanced['MATCH_LABELS'].value_counts())\n",
    "\n"
   ]
  },
  {
   "cell_type": "code",
   "execution_count": 7,
   "id": "35f280a9",
   "metadata": {},
   "outputs": [],
   "source": [
    "train_balanced.to_csv(\"Balanced_Main_Dataset3.csv\", index=False)"
   ]
  },
  {
   "cell_type": "code",
   "execution_count": null,
   "id": "f4bb8304",
   "metadata": {},
   "outputs": [],
   "source": []
  }
 ],
 "metadata": {
  "kernelspec": {
   "display_name": "base",
   "language": "python",
   "name": "python3"
  },
  "language_info": {
   "codemirror_mode": {
    "name": "ipython",
    "version": 3
   },
   "file_extension": ".py",
   "mimetype": "text/x-python",
   "name": "python",
   "nbconvert_exporter": "python",
   "pygments_lexer": "ipython3",
   "version": "3.12.7"
  }
 },
 "nbformat": 4,
 "nbformat_minor": 5
}
